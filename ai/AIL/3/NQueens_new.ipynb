{
  "nbformat": 4,
  "nbformat_minor": 0,
  "metadata": {
    "colab": {
      "name": "NQueens.ipynb",
      "provenance": [],
      "collapsed_sections": []
    },
    "kernelspec": {
      "name": "python3",
      "display_name": "Python 3"
    },
    "language_info": {
      "name": "python"
    }
  },
  "cells": [
    {
      "cell_type": "code",
      "execution_count": null,
      "metadata": {
        "colab": {
          "base_uri": "https://localhost:8080/"
        },
        "id": "1JuGPoTWu8WH",
        "outputId": "9319bf3a-9f5c-4a55-b375-c8fa1b1e6c45"
      },
      "outputs": [
        {
          "output_type": "stream",
          "name": "stdout",
          "text": [
            "1 0 0 0 0 0 0 0 \n",
            "0 0 0 0 0 0 1 0 \n",
            "0 0 0 0 1 0 0 0 \n",
            "0 0 0 0 0 0 0 1 \n",
            "0 1 0 0 0 0 0 0 \n",
            "0 0 0 1 0 0 0 0 \n",
            "0 0 0 0 0 1 0 0 \n",
            "0 0 1 0 0 0 0 0 \n"
          ]
        },
        {
          "output_type": "execute_result",
          "data": {
            "text/plain": [
              "True"
            ]
          },
          "metadata": {},
          "execution_count": 2
        }
      ],
      "source": [
        "\n"
      ]
    },
    {
      "cell_type": "code",
      "source": [
        "global N;\n",
        "N=3;\n",
        "\n",
        "def isSafe(board,row,col):\n",
        "  #check the row till current column\n",
        "  for i in range(col):\n",
        "    if board[row][i] == 1:\n",
        "      return False;\n",
        "  #check for left upper diagonal\n",
        "  for i,j in zip(range(row,-1,-1),range(col,-1,-1)):\n",
        "    if board[i][j] == 1:\n",
        "      return False;\n",
        "\n",
        "  #check for lower left diagonal\n",
        "  for i,j in zip(range(row,N,1),range(col,-1,-1)):\n",
        "    if board[i][j] == 1:\n",
        "      return False;  \n",
        "  \n",
        "  return True;\n",
        "\n",
        "\n",
        "\n",
        "  \n",
        "\n",
        "\n",
        "\n"
      ],
      "metadata": {
        "id": "P27oPwrtvMlJ"
      },
      "execution_count": 1,
      "outputs": []
    },
    {
      "cell_type": "code",
      "source": [
        "def solveNQutil(board,col):\n",
        "  if col>=N:\n",
        "    return True;\n",
        "  #check if which row is safe\n",
        "  for i in range(N):\n",
        "    if isSafe(board,i,col):\n",
        "      board[i][col] = 1\n",
        "\n",
        "      if solveNQutil(board,col+1) == 1:\n",
        "        return True;\n",
        "      \n",
        "      #backtrack\n",
        "      board[i][col] = 0;\n",
        "    \n",
        "  return False;\n",
        "    "
      ],
      "metadata": {
        "id": "eY37ze4YLXdp"
      },
      "execution_count": null,
      "outputs": []
    },
    {
      "cell_type": "code",
      "source": [
        "def printB(board):\n",
        "  for i in range(N):\n",
        "    for j in range(N):\n",
        "      print(board[i][j],\"\\t\",end=\"\")\n",
        "    print()\n"
      ],
      "metadata": {
        "id": "1BeOwxiGL3Io"
      },
      "execution_count": null,
      "outputs": []
    },
    {
      "cell_type": "code",
      "source": [
        "def solve():\n",
        "  N = int(input(\"Enter number of queens\"))\n",
        "  board = [[0]*N]*N\n",
        "  flag = solveNQutil(board,0)\n",
        "  if flag:\n",
        "    printB(board)\n",
        "  else:\n",
        "    print(\"No Solution\")\n"
      ],
      "metadata": {
        "id": "CFCuB0uULZa0"
      },
      "execution_count": null,
      "outputs": []
    },
    {
      "cell_type": "code",
      "source": [
        "solve()"
      ],
      "metadata": {
        "colab": {
          "base_uri": "https://localhost:8080/"
        },
        "id": "cU8BffvSMEbn",
        "outputId": "1a289a64-531c-4a44-da03-cd0b231fc031"
      },
      "execution_count": null,
      "outputs": [
        {
          "output_type": "stream",
          "name": "stdout",
          "text": [
            "Enter number of queens4\n",
            "No Solution\n"
          ]
        }
      ]
    },
    {
      "cell_type": "code",
      "source": [
        ""
      ],
      "metadata": {
        "id": "roU_oWcjMHCw"
      },
      "execution_count": null,
      "outputs": []
    }
  ]
}