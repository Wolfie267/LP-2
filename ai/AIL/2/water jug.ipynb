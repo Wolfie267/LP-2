{
 "cells": [
  {
   "cell_type": "code",
   "execution_count": 1,
   "id": "4852342a",
   "metadata": {},
   "outputs": [
    {
     "name": "stdout",
     "output_type": "stream",
     "text": [
      "Enter limit of first jug2\n",
      "Enter limit of second jug3\n",
      "Enter aim:- 1\n",
      "intial state0 0\n",
      "Goal state0 1\n",
      "0 0\n",
      "2 0\n",
      "0 2\n",
      "2 2\n",
      "1 3\n",
      "0 1\n"
     ]
    }
   ],
   "source": [
    "limit1=int(input(\"Enter limit of first jug\"))\n",
    "limit2=int(input(\"Enter limit of second jug\"))\n",
    "aim=int(input(\"Enter aim:- \"))\n",
    "print(\"intial state\"+\"0 0\")\n",
    "print(\"Goal state\"+\"0 \"+str(aim))\n",
    "if(limit1>limit2):\n",
    "    limit1,limit2=limit2,limit1\n",
    "def waterJug(x,y):\n",
    "    print(str(x)+\" \"+str(y))\n",
    "    if(y==aim):\n",
    "        return \n",
    "    elif(y==limit2):\n",
    "        waterJug(0,x)\n",
    "    elif(y==0 and x!=0):\n",
    "        waterJug(0,x)\n",
    "    elif(x==aim):\n",
    "        waterJug(x,0)\n",
    "    elif(x<limit1):\n",
    "        waterJug(limit1,y)\n",
    "    elif(x+y<=limit2):\n",
    "        waterJug(0,x+y)\n",
    "    elif(x+y>limit2):\n",
    "        waterJug(x-(limit2-y),limit2)\n",
    "\n",
    "waterJug(0,0)"
   ]
  },
  {
   "cell_type": "code",
   "execution_count": null,
   "id": "011720a0",
   "metadata": {},
   "outputs": [],
   "source": []
  }
 ],
 "metadata": {
  "kernelspec": {
   "display_name": "Python 3 (ipykernel)",
   "language": "python",
   "name": "python3"
  },
  "language_info": {
   "codemirror_mode": {
    "name": "ipython",
    "version": 3
   },
   "file_extension": ".py",
   "mimetype": "text/x-python",
   "name": "python",
   "nbconvert_exporter": "python",
   "pygments_lexer": "ipython3",
   "version": "3.10.4"
  }
 },
 "nbformat": 4,
 "nbformat_minor": 5
}
