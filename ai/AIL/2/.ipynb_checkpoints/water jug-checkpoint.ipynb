{
 "cells": [
  {
   "cell_type": "code",
   "execution_count": 2,
   "id": "4852342a",
   "metadata": {},
   "outputs": [
    {
     "name": "stdout",
     "output_type": "stream",
     "text": [
      "Enter limit of first jug4\n",
      "Enter limit of second jug3\n",
      "Enter aim:- 2 2\n"
     ]
    },
    {
     "ename": "ValueError",
     "evalue": "invalid literal for int() with base 10: '2 2'",
     "output_type": "error",
     "traceback": [
      "\u001b[0;31m---------------------------------------------------------------------------\u001b[0m",
      "\u001b[0;31mValueError\u001b[0m                                Traceback (most recent call last)",
      "Input \u001b[0;32mIn [2]\u001b[0m, in \u001b[0;36m<cell line: 3>\u001b[0;34m()\u001b[0m\n\u001b[1;32m      1\u001b[0m limit1\u001b[38;5;241m=\u001b[39m\u001b[38;5;28mint\u001b[39m(\u001b[38;5;28minput\u001b[39m(\u001b[38;5;124m\"\u001b[39m\u001b[38;5;124mEnter limit of first jug\u001b[39m\u001b[38;5;124m\"\u001b[39m))\n\u001b[1;32m      2\u001b[0m limit2\u001b[38;5;241m=\u001b[39m\u001b[38;5;28mint\u001b[39m(\u001b[38;5;28minput\u001b[39m(\u001b[38;5;124m\"\u001b[39m\u001b[38;5;124mEnter limit of second jug\u001b[39m\u001b[38;5;124m\"\u001b[39m))\n\u001b[0;32m----> 3\u001b[0m aim\u001b[38;5;241m=\u001b[39m\u001b[38;5;28;43mint\u001b[39;49m\u001b[43m(\u001b[49m\u001b[38;5;28;43minput\u001b[39;49m\u001b[43m(\u001b[49m\u001b[38;5;124;43m\"\u001b[39;49m\u001b[38;5;124;43mEnter aim:- \u001b[39;49m\u001b[38;5;124;43m\"\u001b[39;49m\u001b[43m)\u001b[49m\u001b[43m)\u001b[49m\n\u001b[1;32m      4\u001b[0m \u001b[38;5;28mprint\u001b[39m(\u001b[38;5;124m\"\u001b[39m\u001b[38;5;124mintial state\u001b[39m\u001b[38;5;124m\"\u001b[39m\u001b[38;5;241m+\u001b[39m\u001b[38;5;124m\"\u001b[39m\u001b[38;5;124m0 0\u001b[39m\u001b[38;5;124m\"\u001b[39m)\n\u001b[1;32m      5\u001b[0m \u001b[38;5;28mprint\u001b[39m(\u001b[38;5;124m\"\u001b[39m\u001b[38;5;124mGoal state\u001b[39m\u001b[38;5;124m\"\u001b[39m\u001b[38;5;241m+\u001b[39m\u001b[38;5;124m\"\u001b[39m\u001b[38;5;124m0 \u001b[39m\u001b[38;5;124m\"\u001b[39m\u001b[38;5;241m+\u001b[39m\u001b[38;5;28mstr\u001b[39m(aim))\n",
      "\u001b[0;31mValueError\u001b[0m: invalid literal for int() with base 10: '2 2'"
     ]
    }
   ],
   "source": [
    "limit1=int(input(\"Enter limit of first jug\"))\n",
    "limit2=int(input(\"Enter limit of second jug\"))\n",
    "aim=int(input(\"Enter aim:- \"))\n",
    "print(\"intial state\"+\"0 0\")\n",
    "print(\"Goal state\"+\"0 \"+str(aim))\n",
    "if(limit1>limit2):\n",
    "    limit1,limit2=limit2,limit1\n",
    "def waterJug(x,y):\n",
    "    print(str(x)+\" \"+str(y))\n",
    "    if(y==aim):\n",
    "        return \n",
    "    elif(y==limit2):\n",
    "        waterJug(0,x)\n",
    "    elif(y==0 and x!=0):\n",
    "        waterJug(0,x)\n",
    "    elif(x==aim):\n",
    "        waterJug(x,0)\n",
    "    elif(x<limit1):\n",
    "        waterJug(limit1,y)\n",
    "    elif(x+y<=limit2):\n",
    "        waterJug(0,x+y)\n",
    "    elif(x+y>limit2):\n",
    "        waterJug(x-(limit2-y),limit2)\n",
    "\n",
    "waterJug(0,0)"
   ]
  },
  {
   "cell_type": "code",
   "execution_count": null,
   "id": "011720a0",
   "metadata": {},
   "outputs": [],
   "source": []
  }
 ],
 "metadata": {
  "kernelspec": {
   "display_name": "Python 3 (ipykernel)",
   "language": "python",
   "name": "python3"
  },
  "language_info": {
   "codemirror_mode": {
    "name": "ipython",
    "version": 3
   },
   "file_extension": ".py",
   "mimetype": "text/x-python",
   "name": "python",
   "nbconvert_exporter": "python",
   "pygments_lexer": "ipython3",
   "version": "3.10.4"
  }
 },
 "nbformat": 4,
 "nbformat_minor": 5
}
