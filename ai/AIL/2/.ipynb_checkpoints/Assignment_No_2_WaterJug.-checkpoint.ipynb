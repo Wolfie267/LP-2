{
 "cells": [
  {
   "cell_type": "markdown",
   "id": "f354c6a6",
   "metadata": {
    "id": "f354c6a6"
   },
   "source": [
    "###### Problem Statement\n",
    "- Write a program for Water jug problem  "
   ]
  },
  {
   "cell_type": "code",
   "execution_count": 1,
   "id": "080aeb8b",
   "metadata": {
    "colab": {
     "base_uri": "https://localhost:8080/"
    },
    "id": "080aeb8b",
    "outputId": "be0b613c-08d1-4570-c31e-7e19004560f1"
   },
   "outputs": [
    {
     "name": "stdout",
     "output_type": "stream",
     "text": [
      "Initial State: 0 0\n",
      "Goal State: 0 2\n",
      "Steps: \n",
      "0 0\n",
      "4 0\n",
      "4 3\n",
      "0 3\n",
      "3 0\n",
      "3 3\n",
      "4 2\n",
      "0 2\n"
     ]
    },
    {
     "data": {
      "text/plain": [
       "True"
      ]
     },
     "execution_count": 1,
     "metadata": {},
     "output_type": "execute_result"
    }
   ],
   "source": [
    "# This function is used to initialize the\n",
    "# dictionary elements with a default value.\n",
    "from collections import defaultdict\n",
    "\n",
    "# jug1 and jug2 contain the value\n",
    "# for max capacity in respective jugs\n",
    "# and aim is the amount of water to be measured.\n",
    "jug1, jug2, aim = 4, 3, 2\n",
    "\n",
    "# Initialize dictionary with\n",
    "# default value as false.\n",
    "visited = defaultdict(lambda: False)\n",
    "\n",
    "# Recursive function which prints the\n",
    "# intermediate steps to reach the final\n",
    "# solution and return boolean value\n",
    "# (True if solution is possible, otherwise False).\n",
    "# amt1 and amt2 are the amount of water present\n",
    "# in both jugs at a certain point of time.\n",
    "def waterJugSolver(amt1, amt2):\n",
    "\n",
    "\t# Checks for our goal and\n",
    "\t# returns true if achieved.\n",
    "\tif (amt1 == aim and amt2 == 0) or (amt2 == aim and amt1 == 0):\n",
    "\t\tprint(amt1, amt2)\n",
    "\t\treturn True\n",
    "\t\n",
    "\t# Checks if we have already visited the\n",
    "\t# combination or not. If not, then it proceeds further.\n",
    "\tif visited[(amt1, amt2)] == False:\n",
    "\t\tprint(amt1, amt2)\n",
    "\t\n",
    "\t\t# Changes the boolean value of\n",
    "\t\t# the combination as it is visited.\n",
    "\t\tvisited[(amt1, amt2)] = True\n",
    "\t\n",
    "\t\t# Check for all the 6 possibilities and\n",
    "\t\t# see if a solution is found in any one of them.\n",
    "\t\treturn (waterJugSolver(0, amt2) or\n",
    "\t\t\t\twaterJugSolver(amt1, 0) or\n",
    "\t\t\t\twaterJugSolver(jug1, amt2) or\n",
    "\t\t\t\twaterJugSolver(amt1, jug2) or\n",
    "\t\t\t\twaterJugSolver(amt1 + min(amt2, (jug1-amt1)),\n",
    "\t\t\t\tamt2 - min(amt2, (jug1-amt1))) or\n",
    "\t\t\t\twaterJugSolver(amt1 - min(amt1, (jug2-amt2)),\n",
    "\t\t\t\tamt2 + min(amt1, (jug2-amt2))))\n",
    "\t\n",
    "\t# Return False if the combination is\n",
    "\t# already visited to avoid repetition otherwise\n",
    "\t# recursion will enter an infinite loop.\n",
    "\telse:\n",
    "\t\treturn False\n",
    "print(\"Initial State: 0 0\")\n",
    "print(\"Goal State: 0 2\")\n",
    "\n",
    "print(\"Steps: \")\n",
    "\n",
    "# Call the function and pass the\n",
    "# initial amount of water present in both jugs.\n",
    "waterJugSolver(0, 0)\n"
   ]
  },
  {
   "cell_type": "code",
   "execution_count": null,
   "id": "f4fe298f",
   "metadata": {
    "id": "f4fe298f"
   },
   "outputs": [],
   "source": []
  }
 ],
 "metadata": {
  "colab": {
   "collapsed_sections": [],
   "name": "Assignment No.3_WaterJug.ipynb",
   "provenance": []
  },
  "kernelspec": {
   "display_name": "Python 3 (ipykernel)",
   "language": "python",
   "name": "python3"
  },
  "language_info": {
   "codemirror_mode": {
    "name": "ipython",
    "version": 3
   },
   "file_extension": ".py",
   "mimetype": "text/x-python",
   "name": "python",
   "nbconvert_exporter": "python",
   "pygments_lexer": "ipython3",
   "version": "3.10.4"
  }
 },
 "nbformat": 4,
 "nbformat_minor": 5
}
