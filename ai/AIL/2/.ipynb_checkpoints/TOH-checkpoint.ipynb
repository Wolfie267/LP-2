{
 "cells": [
  {
   "cell_type": "code",
   "execution_count": null,
   "metadata": {
    "id": "otJVaxik709u"
   },
   "outputs": [],
   "source": [
    "def toh(n,src,dest,help):\n",
    "  global count\n",
    "  if n==1:\n",
    "    print(\"Move disk 1 from \",src,\" to \",dest);\n",
    "    count+=1\n",
    "    return;\n",
    "  toh(n-1,src,help,dest);\n",
    "  print(\"Move disk \",n,\" from \",src,\"to\",dest);\n",
    "  count+=1\n",
    "  toh(n-1,help,dest,src);"
   ]
  },
  {
   "cell_type": "code",
   "execution_count": null,
   "metadata": {
    "colab": {
     "base_uri": "https://localhost:8080/"
    },
    "id": "Xv7y_8jR85zK",
    "outputId": "e14e50a2-e929-4d8b-f072-119983436bcb"
   },
   "outputs": [
    {
     "name": "stdout",
     "output_type": "stream",
     "text": [
      "Enter number of discs2\n",
      "Move disk 1 from  A  to  B\n",
      "Move disk  2  from  A to C\n",
      "Move disk 1 from  B  to  C\n",
      "Number of moves: 3\n"
     ]
    }
   ],
   "source": [
    "count=0;\n",
    "n = int(input(\"Enter number of discs\"))\n",
    "toh(n,'A','C','B')\n",
    "print(\"Number of moves:\",count)"
   ]
  },
  {
   "cell_type": "code",
   "execution_count": null,
   "metadata": {
    "id": "kdUunypp8-Vq"
   },
   "outputs": [],
   "source": []
  },
  {
   "cell_type": "markdown",
   "metadata": {
    "id": "d_TySNgNSXRQ"
   },
   "source": []
  }
 ],
 "metadata": {
  "colab": {
   "collapsed_sections": [],
   "name": "TOH.ipynb",
   "provenance": []
  },
  "kernelspec": {
   "display_name": "Python 3 (ipykernel)",
   "language": "python",
   "name": "python3"
  },
  "language_info": {
   "codemirror_mode": {
    "name": "ipython",
    "version": 3
   },
   "file_extension": ".py",
   "mimetype": "text/x-python",
   "name": "python",
   "nbconvert_exporter": "python",
   "pygments_lexer": "ipython3",
   "version": "3.10.4"
  }
 },
 "nbformat": 4,
 "nbformat_minor": 1
}
