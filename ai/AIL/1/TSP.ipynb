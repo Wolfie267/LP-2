{
  "nbformat": 4,
  "nbformat_minor": 0,
  "metadata": {
    "colab": {
      "name": "TSP.ipynb",
      "provenance": [],
      "collapsed_sections": []
    },
    "kernelspec": {
      "name": "python3",
      "display_name": "Python 3"
    },
    "language_info": {
      "name": "python"
    }
  },
  "cells": [
    {
      "cell_type": "code",
      "execution_count": 72,
      "metadata": {
        "id": "rACL8YJ8hVBk"
      },
      "outputs": [],
      "source": [
        "inf = 1000\n",
        "\n",
        "def tsp(distance,source_city,N,visited,path):\n",
        "  cost = 0\n",
        "  count = 0\n",
        "  \n",
        "  current = source_city\n",
        "  visited[source_city] = 1\n",
        "\n",
        "  while count != N-1:\n",
        "    minD = inf\n",
        "    for i in range(N):\n",
        "      if distance[current][i] < minD and visited[i]==0:\n",
        "        minD = distance[current][i]\n",
        "        minIndex = i\n",
        "    visited[minIndex] = 1\n",
        "    current = minIndex\n",
        "    path.append(current+1)\n",
        "    cost+=minD\n",
        "    count+=1\n",
        "\n",
        "  cost+=distance[current][source_city]\n",
        "  path.append(source_city+1)\n",
        "\n",
        "  return cost"
      ]
    },
    {
      "cell_type": "code",
      "source": [
        "\n",
        "if __name__ == '__main__':\n",
        "    distance = [\n",
        "        [inf, 10,  15,  20],\n",
        "        [10,  inf, 35,  25],\n",
        "        [15,  35,  inf, 30],\n",
        "        [20,  25,  30,  inf]\n",
        "    ]\n",
        "\n",
        "    source_city = 0\n",
        "    visited = [0]*4\n",
        "  \n",
        "    path = []\n",
        "    path.append(source_city+1)\n",
        "    cost = tsp(distance,source_city,4,visited,path);\n",
        "    print(\"Cost:\",cost)\n",
        "    for i in path:\n",
        "      print(i,\"->\",end=\"\")"
      ],
      "metadata": {
        "colab": {
          "base_uri": "https://localhost:8080/"
        },
        "id": "Qt919zOYhYuf",
        "outputId": "92aec48b-3d89-44c6-d5c7-dac6804ee746"
      },
      "execution_count": 73,
      "outputs": [
        {
          "output_type": "stream",
          "name": "stdout",
          "text": [
            "Cost: 80\n",
            "1 ->2 ->4 ->3 ->1 ->"
          ]
        }
      ]
    },
    {
      "cell_type": "code",
      "source": [
        ""
      ],
      "metadata": {
        "id": "my3mVfGUhbwY"
      },
      "execution_count": null,
      "outputs": []
    }
  ]
}